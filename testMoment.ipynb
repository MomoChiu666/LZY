{
 "cells": [
  {
   "cell_type": "code",
   "execution_count": 13,
   "metadata": {},
   "outputs": [],
   "source": [
    "import os\n",
    "import pandas as pd\n",
    "from datetime import datetime\n",
    "from sklearn.preprocessing import StandardScaler, LabelEncoder, KBinsDiscretizer\n",
    "from sklearn.model_selection import train_test_split\n",
    "\n",
    "# 定义数据目录和文件路径\n",
    "data_dir = \"C:/Users/Rou/Desktop/Identifying-Pulse-through-Skin-Tone-Changes\"\n",
    "skin_pixel_data_path = os.path.join(data_dir, \"HSV_output\", \"skin_pixel_changes.csv\")\n",
    "\n",
    "# 加载数据\n",
    "data = pd.read_csv(skin_pixel_data_path)\n",
    "\n",
    "# 转换日期和类别数据\n",
    "data['量測日期時間'] = pd.to_datetime(data['量測日期時間']).map(datetime.toordinal)\n",
    "data['性別'] = LabelEncoder().fit_transform(data['性別'])\n",
    "\n",
    "# 特征选择\n",
    "features = ['量測日期時間', '量測年齡', '性別', 'chinLip', 'forehead', 'leftCheek', 'lowerLip', 'nose', 'noseBridge', 'noseTip', 'rightCheek', 'upperLip']\n",
    "target = ['心率']\n",
    "\n",
    "# 离散化目标变量\n",
    "est = KBinsDiscretizer(n_bins=10, encode='ordinal', strategy='uniform')\n",
    "data[target] = est.fit_transform(data[target])\n",
    "\n",
    "# 标准化特征\n",
    "scaler = StandardScaler()\n",
    "X = scaler.fit_transform(data[features])\n",
    "# Assuming 'target' is a list of column names, and you're processing a single target variable\n",
    "y = data[target].values.ravel()  # Convert DataFrame column to NumPy array and then flatten it\n",
    "\n",
    "\n",
    "# 数据分割\n",
    "X_train, X_test, y_train, y_test = train_test_split(X, y, test_size=0.2, random_state=42)\n"
   ]
  },
  {
   "cell_type": "code",
   "execution_count": 2,
   "metadata": {},
   "outputs": [
    {
     "name": "stdout",
     "output_type": "stream",
     "text": [
      "Number of classes: 心率    10\n",
      "dtype: int64\n"
     ]
    }
   ],
   "source": [
    "num_classes = data[target].nunique()\n",
    "print(\"Number of classes:\", num_classes)\n"
   ]
  },
  {
   "cell_type": "code",
   "execution_count": 3,
   "metadata": {},
   "outputs": [
    {
     "name": "stderr",
     "output_type": "stream",
     "text": [
      "C:\\Users\\Rou\\AppData\\Local\\Temp\\ipykernel_14500\\725870678.py:4: UserWarning: Failed to initialize NumPy: DLL load failed while importing _multiarray_umath: 找不到指定的模組。 (Triggered internally at ..\\torch\\csrc\\utils\\tensor_numpy.cpp:84.)\n",
      "  X_train_tensor = torch.tensor(X_train, dtype=torch.float32)\n"
     ]
    }
   ],
   "source": [
    "import torch\n",
    "\n",
    "# Assuming X_train is a numpy array, directly convert it to a Tensor\n",
    "X_train_tensor = torch.tensor(X_train, dtype=torch.float32)\n",
    "\n"
   ]
  },
  {
   "cell_type": "code",
   "execution_count": 6,
   "metadata": {},
   "outputs": [
    {
     "name": "stdout",
     "output_type": "stream",
     "text": [
      "Model initialized successfully with test input.\n"
     ]
    }
   ],
   "source": [
    "import torch\n",
    "from momentfm import MOMENTPipeline\n",
    "\n",
    "# 创建一个简单的随机Tensor作为输入\n",
    "test_input = torch.randn(10, X_train_tensor.shape[1], dtype=torch.float32)  # 保持与X_train相同的特征数量\n",
    "\n",
    "# 尝试初始化模型\n",
    "try:\n",
    "    model = MOMENTPipeline.from_pretrained(\n",
    "        \"AutonLab/MOMENT-1-large\",\n",
    "        model_kwargs={\n",
    "            \"task_name\": \"classification\",\n",
    "            \"n_channels\": test_input.shape[1],\n",
    "            \"num_class\": 10\n",
    "        }\n",
    "    )\n",
    "    model.init()\n",
    "    print(\"Model initialized successfully with test input.\")\n",
    "except Exception as e:\n",
    "    print(\"Error during model initialization:\", e)\n"
   ]
  },
  {
   "cell_type": "code",
   "execution_count": 12,
   "metadata": {},
   "outputs": [
    {
     "name": "stdout",
     "output_type": "stream",
     "text": [
      "Shape of X_train_tensor: torch.Size([1635192, 12])\n",
      "Failed to initialize the model: empty() received an invalid combination of arguments - got (tuple, dtype=NoneType, device=NoneType), but expected one of:\n",
      " * (tuple of ints size, *, tuple of names names, torch.memory_format memory_format, torch.dtype dtype, torch.layout layout, torch.device device, bool pin_memory, bool requires_grad)\n",
      " * (tuple of ints size, *, torch.memory_format memory_format, Tensor out, torch.dtype dtype, torch.layout layout, torch.device device, bool pin_memory, bool requires_grad)\n",
      "\n"
     ]
    },
    {
     "ename": "TypeError",
     "evalue": "empty() received an invalid combination of arguments - got (tuple, dtype=NoneType, device=NoneType), but expected one of:\n * (tuple of ints size, *, tuple of names names, torch.memory_format memory_format, torch.dtype dtype, torch.layout layout, torch.device device, bool pin_memory, bool requires_grad)\n * (tuple of ints size, *, torch.memory_format memory_format, Tensor out, torch.dtype dtype, torch.layout layout, torch.device device, bool pin_memory, bool requires_grad)\n",
     "output_type": "error",
     "traceback": [
      "\u001b[1;31m---------------------------------------------------------------------------\u001b[0m",
      "\u001b[1;31mTypeError\u001b[0m                                 Traceback (most recent call last)",
      "Cell \u001b[1;32mIn[12], line 24\u001b[0m\n\u001b[0;32m     16\u001b[0m model \u001b[39m=\u001b[39m MOMENTPipeline\u001b[39m.\u001b[39mfrom_pretrained(\n\u001b[0;32m     17\u001b[0m     \u001b[39m\"\u001b[39m\u001b[39mAutonLab/MOMENT-1-large\u001b[39m\u001b[39m\"\u001b[39m,\n\u001b[0;32m     18\u001b[0m     model_kwargs\u001b[39m=\u001b[39m{\n\u001b[1;32m   (...)\u001b[0m\n\u001b[0;32m     22\u001b[0m     }\n\u001b[0;32m     23\u001b[0m )\n\u001b[1;32m---> 24\u001b[0m model\u001b[39m.\u001b[39;49minit()\n\u001b[0;32m     25\u001b[0m \u001b[39mprint\u001b[39m(\u001b[39m\"\u001b[39m\u001b[39mModel initialized successfully.\u001b[39m\u001b[39m\"\u001b[39m)\n",
      "File \u001b[1;32md:\\2_NCU\\1121_碩論\\moment_model\\moment\\momentfm\\models\\moment.py:599\u001b[0m, in \u001b[0;36mMOMENTPipeline.init\u001b[1;34m(self)\u001b[0m\n\u001b[0;32m    598\u001b[0m \u001b[39mself\u001b[39m\u001b[39m.\u001b[39mtask_name \u001b[39m=\u001b[39m \u001b[39mself\u001b[39m\u001b[39m.\u001b[39mnew_task_name\n\u001b[1;32m--> 599\u001b[0m \u001b[39mself\u001b[39m\u001b[39m.\u001b[39mhead \u001b[39m=\u001b[39m \u001b[39mself\u001b[39;49m\u001b[39m.\u001b[39;49m_get_head(\u001b[39mself\u001b[39;49m\u001b[39m.\u001b[39;49mnew_task_name)\n",
      "File \u001b[1;32md:\\2_NCU\\1121_碩論\\moment_model\\moment\\momentfm\\models\\moment.py:183\u001b[0m, in \u001b[0;36mMOMENT._get_head\u001b[1;34m(self, task_name)\u001b[0m\n\u001b[0;32m    182\u001b[0m \u001b[39melif\u001b[39;00m task_name \u001b[39m==\u001b[39m TASKS\u001b[39m.\u001b[39mCLASSIFICATION:\n\u001b[1;32m--> 183\u001b[0m     \u001b[39mreturn\u001b[39;00m ClassificationHead(\n\u001b[0;32m    184\u001b[0m         \u001b[39mself\u001b[39;49m\u001b[39m.\u001b[39;49mconfig\u001b[39m.\u001b[39;49mn_channels,\n\u001b[0;32m    185\u001b[0m         \u001b[39mself\u001b[39;49m\u001b[39m.\u001b[39;49mconfig\u001b[39m.\u001b[39;49md_model,\n\u001b[0;32m    186\u001b[0m         \u001b[39mself\u001b[39;49m\u001b[39m.\u001b[39;49mconfig\u001b[39m.\u001b[39;49mnum_class,\n\u001b[0;32m    187\u001b[0m         \u001b[39mself\u001b[39;49m\u001b[39m.\u001b[39;49mconfig\u001b[39m.\u001b[39;49mgetattr(\u001b[39m\"\u001b[39;49m\u001b[39mdropout\u001b[39;49m\u001b[39m\"\u001b[39;49m, \u001b[39m0.1\u001b[39;49m),\n\u001b[0;32m    188\u001b[0m         reduction \u001b[39m=\u001b[39;49m \u001b[39mself\u001b[39;49m\u001b[39m.\u001b[39;49mconfig\u001b[39m.\u001b[39;49mgetattr(\u001b[39m\"\u001b[39;49m\u001b[39mreduction\u001b[39;49m\u001b[39m\"\u001b[39;49m, \u001b[39m\"\u001b[39;49m\u001b[39mconcat\u001b[39;49m\u001b[39m\"\u001b[39;49m),\n\u001b[0;32m    189\u001b[0m     )\n\u001b[0;32m    190\u001b[0m \u001b[39melif\u001b[39;00m task_name \u001b[39m==\u001b[39m TASKS\u001b[39m.\u001b[39mFORECASTING:\n",
      "File \u001b[1;32md:\\2_NCU\\1121_碩論\\moment_model\\moment\\momentfm\\models\\moment.py:68\u001b[0m, in \u001b[0;36mClassificationHead.__init__\u001b[1;34m(self, n_channels, d_model, n_classes, head_dropout, reduction)\u001b[0m\n\u001b[0;32m     67\u001b[0m \u001b[39melif\u001b[39;00m reduction \u001b[39m==\u001b[39m \u001b[39m\"\u001b[39m\u001b[39mconcat\u001b[39m\u001b[39m\"\u001b[39m:\n\u001b[1;32m---> 68\u001b[0m     \u001b[39mself\u001b[39m\u001b[39m.\u001b[39mlinear \u001b[39m=\u001b[39m nn\u001b[39m.\u001b[39;49mLinear(n_channels \u001b[39m*\u001b[39;49m d_model, n_classes)\n\u001b[0;32m     69\u001b[0m \u001b[39melse\u001b[39;00m:\n",
      "File \u001b[1;32mc:\\Users\\Rou\\anaconda3\\envs\\envv\\Lib\\site-packages\\torch\\nn\\modules\\linear.py:96\u001b[0m, in \u001b[0;36mLinear.__init__\u001b[1;34m(self, in_features, out_features, bias, device, dtype)\u001b[0m\n\u001b[0;32m     95\u001b[0m \u001b[39mself\u001b[39m\u001b[39m.\u001b[39mout_features \u001b[39m=\u001b[39m out_features\n\u001b[1;32m---> 96\u001b[0m \u001b[39mself\u001b[39m\u001b[39m.\u001b[39mweight \u001b[39m=\u001b[39m Parameter(torch\u001b[39m.\u001b[39;49mempty((out_features, in_features), \u001b[39m*\u001b[39;49m\u001b[39m*\u001b[39;49mfactory_kwargs))\n\u001b[0;32m     97\u001b[0m \u001b[39mif\u001b[39;00m bias:\n",
      "\u001b[1;31mTypeError\u001b[0m: empty() received an invalid combination of arguments - got (tuple, dtype=NoneType, device=NoneType), but expected one of:\n * (tuple of ints size, *, tuple of names names, torch.memory_format memory_format, torch.dtype dtype, torch.layout layout, torch.device device, bool pin_memory, bool requires_grad)\n * (tuple of ints size, *, torch.memory_format memory_format, Tensor out, torch.dtype dtype, torch.layout layout, torch.device device, bool pin_memory, bool requires_grad)\n",
      "\nDuring handling of the above exception, another exception occurred:\n",
      "\u001b[1;31mTypeError\u001b[0m                                 Traceback (most recent call last)",
      "Cell \u001b[1;32mIn[12], line 29\u001b[0m\n\u001b[0;32m     26\u001b[0m \u001b[39mexcept\u001b[39;00m \u001b[39mException\u001b[39;00m \u001b[39mas\u001b[39;00m e:\n\u001b[0;32m     27\u001b[0m     \u001b[39mprint\u001b[39m(\u001b[39m\"\u001b[39m\u001b[39mFailed to initialize the model:\u001b[39m\u001b[39m\"\u001b[39m, e)\n\u001b[1;32m---> 29\u001b[0m     model\u001b[39m.\u001b[39;49minit()\n\u001b[0;32m     30\u001b[0m     \u001b[39mprint\u001b[39m(\u001b[39m\"\u001b[39m\u001b[39mModel initialized successfully.\u001b[39m\u001b[39m\"\u001b[39m)\n\u001b[0;32m     31\u001b[0m \u001b[39mexcept\u001b[39;00m \u001b[39mException\u001b[39;00m \u001b[39mas\u001b[39;00m e:\n",
      "File \u001b[1;32md:\\2_NCU\\1121_碩論\\moment_model\\moment\\momentfm\\models\\moment.py:599\u001b[0m, in \u001b[0;36mMOMENTPipeline.init\u001b[1;34m(self)\u001b[0m\n\u001b[0;32m    597\u001b[0m \u001b[39mif\u001b[39;00m \u001b[39mself\u001b[39m\u001b[39m.\u001b[39mnew_task_name \u001b[39m!=\u001b[39m TASKS\u001b[39m.\u001b[39mRECONSTRUCTION:\n\u001b[0;32m    598\u001b[0m     \u001b[39mself\u001b[39m\u001b[39m.\u001b[39mtask_name \u001b[39m=\u001b[39m \u001b[39mself\u001b[39m\u001b[39m.\u001b[39mnew_task_name\n\u001b[1;32m--> 599\u001b[0m     \u001b[39mself\u001b[39m\u001b[39m.\u001b[39mhead \u001b[39m=\u001b[39m \u001b[39mself\u001b[39;49m\u001b[39m.\u001b[39;49m_get_head(\u001b[39mself\u001b[39;49m\u001b[39m.\u001b[39;49mnew_task_name)\n",
      "File \u001b[1;32md:\\2_NCU\\1121_碩論\\moment_model\\moment\\momentfm\\models\\moment.py:183\u001b[0m, in \u001b[0;36mMOMENT._get_head\u001b[1;34m(self, task_name)\u001b[0m\n\u001b[0;32m    176\u001b[0m     \u001b[39mreturn\u001b[39;00m PretrainHead(\n\u001b[0;32m    177\u001b[0m         \u001b[39mself\u001b[39m\u001b[39m.\u001b[39mconfig\u001b[39m.\u001b[39md_model,\n\u001b[0;32m    178\u001b[0m         \u001b[39mself\u001b[39m\u001b[39m.\u001b[39mconfig\u001b[39m.\u001b[39mpatch_len,\n\u001b[0;32m    179\u001b[0m         \u001b[39mself\u001b[39m\u001b[39m.\u001b[39mconfig\u001b[39m.\u001b[39mgetattr(\u001b[39m\"\u001b[39m\u001b[39mdropout\u001b[39m\u001b[39m\"\u001b[39m, \u001b[39m0.1\u001b[39m),\n\u001b[0;32m    180\u001b[0m         \u001b[39mself\u001b[39m\u001b[39m.\u001b[39mconfig\u001b[39m.\u001b[39mgetattr(\u001b[39m\"\u001b[39m\u001b[39morth_gain\u001b[39m\u001b[39m\"\u001b[39m, \u001b[39m1.41\u001b[39m),\n\u001b[0;32m    181\u001b[0m     )\n\u001b[0;32m    182\u001b[0m \u001b[39melif\u001b[39;00m task_name \u001b[39m==\u001b[39m TASKS\u001b[39m.\u001b[39mCLASSIFICATION:\n\u001b[1;32m--> 183\u001b[0m     \u001b[39mreturn\u001b[39;00m ClassificationHead(\n\u001b[0;32m    184\u001b[0m         \u001b[39mself\u001b[39;49m\u001b[39m.\u001b[39;49mconfig\u001b[39m.\u001b[39;49mn_channels,\n\u001b[0;32m    185\u001b[0m         \u001b[39mself\u001b[39;49m\u001b[39m.\u001b[39;49mconfig\u001b[39m.\u001b[39;49md_model,\n\u001b[0;32m    186\u001b[0m         \u001b[39mself\u001b[39;49m\u001b[39m.\u001b[39;49mconfig\u001b[39m.\u001b[39;49mnum_class,\n\u001b[0;32m    187\u001b[0m         \u001b[39mself\u001b[39;49m\u001b[39m.\u001b[39;49mconfig\u001b[39m.\u001b[39;49mgetattr(\u001b[39m\"\u001b[39;49m\u001b[39mdropout\u001b[39;49m\u001b[39m\"\u001b[39;49m, \u001b[39m0.1\u001b[39;49m),\n\u001b[0;32m    188\u001b[0m         reduction \u001b[39m=\u001b[39;49m \u001b[39mself\u001b[39;49m\u001b[39m.\u001b[39;49mconfig\u001b[39m.\u001b[39;49mgetattr(\u001b[39m\"\u001b[39;49m\u001b[39mreduction\u001b[39;49m\u001b[39m\"\u001b[39;49m, \u001b[39m\"\u001b[39;49m\u001b[39mconcat\u001b[39;49m\u001b[39m\"\u001b[39;49m),\n\u001b[0;32m    189\u001b[0m     )\n\u001b[0;32m    190\u001b[0m \u001b[39melif\u001b[39;00m task_name \u001b[39m==\u001b[39m TASKS\u001b[39m.\u001b[39mFORECASTING:\n\u001b[0;32m    191\u001b[0m     num_patches \u001b[39m=\u001b[39m (\n\u001b[0;32m    192\u001b[0m         \u001b[39mmax\u001b[39m(\u001b[39mself\u001b[39m\u001b[39m.\u001b[39mconfig\u001b[39m.\u001b[39mseq_len, \u001b[39mself\u001b[39m\u001b[39m.\u001b[39mconfig\u001b[39m.\u001b[39mpatch_len) \u001b[39m-\u001b[39m \u001b[39mself\u001b[39m\u001b[39m.\u001b[39mconfig\u001b[39m.\u001b[39mpatch_len\n\u001b[0;32m    193\u001b[0m     ) \u001b[39m/\u001b[39m\u001b[39m/\u001b[39m \u001b[39mself\u001b[39m\u001b[39m.\u001b[39mconfig\u001b[39m.\u001b[39mpatch_stride_len \u001b[39m+\u001b[39m \u001b[39m1\u001b[39m\n",
      "File \u001b[1;32md:\\2_NCU\\1121_碩論\\moment_model\\moment\\momentfm\\models\\moment.py:68\u001b[0m, in \u001b[0;36mClassificationHead.__init__\u001b[1;34m(self, n_channels, d_model, n_classes, head_dropout, reduction)\u001b[0m\n\u001b[0;32m     66\u001b[0m     \u001b[39mself\u001b[39m\u001b[39m.\u001b[39mlinear \u001b[39m=\u001b[39m nn\u001b[39m.\u001b[39mLinear(d_model, n_classes)\n\u001b[0;32m     67\u001b[0m \u001b[39melif\u001b[39;00m reduction \u001b[39m==\u001b[39m \u001b[39m\"\u001b[39m\u001b[39mconcat\u001b[39m\u001b[39m\"\u001b[39m:\n\u001b[1;32m---> 68\u001b[0m     \u001b[39mself\u001b[39m\u001b[39m.\u001b[39mlinear \u001b[39m=\u001b[39m nn\u001b[39m.\u001b[39;49mLinear(n_channels \u001b[39m*\u001b[39;49m d_model, n_classes)\n\u001b[0;32m     69\u001b[0m \u001b[39melse\u001b[39;00m:\n\u001b[0;32m     70\u001b[0m     \u001b[39mraise\u001b[39;00m \u001b[39mValueError\u001b[39;00m(\u001b[39mf\u001b[39m\u001b[39m\"\u001b[39m\u001b[39mReduction method \u001b[39m\u001b[39m{\u001b[39;00mreduction\u001b[39m}\u001b[39;00m\u001b[39m not implemented. Only \u001b[39m\u001b[39m'\u001b[39m\u001b[39mmean\u001b[39m\u001b[39m'\u001b[39m\u001b[39m and \u001b[39m\u001b[39m'\u001b[39m\u001b[39mconcat\u001b[39m\u001b[39m'\u001b[39m\u001b[39m are supported.\u001b[39m\u001b[39m\"\u001b[39m)\n",
      "File \u001b[1;32mc:\\Users\\Rou\\anaconda3\\envs\\envv\\Lib\\site-packages\\torch\\nn\\modules\\linear.py:96\u001b[0m, in \u001b[0;36mLinear.__init__\u001b[1;34m(self, in_features, out_features, bias, device, dtype)\u001b[0m\n\u001b[0;32m     94\u001b[0m \u001b[39mself\u001b[39m\u001b[39m.\u001b[39min_features \u001b[39m=\u001b[39m in_features\n\u001b[0;32m     95\u001b[0m \u001b[39mself\u001b[39m\u001b[39m.\u001b[39mout_features \u001b[39m=\u001b[39m out_features\n\u001b[1;32m---> 96\u001b[0m \u001b[39mself\u001b[39m\u001b[39m.\u001b[39mweight \u001b[39m=\u001b[39m Parameter(torch\u001b[39m.\u001b[39;49mempty((out_features, in_features), \u001b[39m*\u001b[39;49m\u001b[39m*\u001b[39;49mfactory_kwargs))\n\u001b[0;32m     97\u001b[0m \u001b[39mif\u001b[39;00m bias:\n\u001b[0;32m     98\u001b[0m     \u001b[39mself\u001b[39m\u001b[39m.\u001b[39mbias \u001b[39m=\u001b[39m Parameter(torch\u001b[39m.\u001b[39mempty(out_features, \u001b[39m*\u001b[39m\u001b[39m*\u001b[39mfactory_kwargs))\n",
      "\u001b[1;31mTypeError\u001b[0m: empty() received an invalid combination of arguments - got (tuple, dtype=NoneType, device=NoneType), but expected one of:\n * (tuple of ints size, *, tuple of names names, torch.memory_format memory_format, torch.dtype dtype, torch.layout layout, torch.device device, bool pin_memory, bool requires_grad)\n * (tuple of ints size, *, torch.memory_format memory_format, Tensor out, torch.dtype dtype, torch.layout layout, torch.device device, bool pin_memory, bool requires_grad)\n"
     ]
    }
   ],
   "source": [
    "import torch\n",
    "from momentfm import MOMENTPipeline\n",
    "# 正确的调用方式，指定了数据类型和设备\n",
    "##tensor = torch.empty((10, 10), dtype=torch.float32, device='cpu')\n",
    "\n",
    "# 如果X_train是numpy数组\n",
    "##X_train_tensor = torch.empty(X_train, dtype=torch.float32, device='cpu')\n",
    "X_train_tensor = torch.tensor(X_train, dtype=torch.float32, device='cpu')\n",
    "\n",
    "# 确认Tensor的形状符合模型的输入要求\n",
    "print(\"Shape of X_train_tensor:\", X_train_tensor.shape)\n",
    "\n",
    "n_channels = X_train_tensor.shape[1]  # 特征数量\n",
    "\n",
    "try:\n",
    "    model = MOMENTPipeline.from_pretrained(\n",
    "        \"AutonLab/MOMENT-1-large\",\n",
    "        model_kwargs={\n",
    "            \"task_name\": \"classification\",\n",
    "            \"n_channels\": n_channels,  # Start with minimal necessary parameters\n",
    "            \"num_class\": num_classes # 确保这里的num_class正确\n",
    "        }\n",
    "    )\n",
    "    model.init()\n",
    "    print(\"Model initialized successfully.\")\n",
    "except Exception as e:\n",
    "    print(\"Failed to initialize the model:\", e)\n",
    "\n",
    "    model.init()\n",
    "    print(\"Model initialized successfully.\")\n",
    "except Exception as e:\n",
    "    print(\"Failed to initialize the model:\", e)\n"
   ]
  }
 ],
 "metadata": {
  "kernelspec": {
   "display_name": "envv",
   "language": "python",
   "name": "python3"
  },
  "language_info": {
   "codemirror_mode": {
    "name": "ipython",
    "version": 3
   },
   "file_extension": ".py",
   "mimetype": "text/x-python",
   "name": "python",
   "nbconvert_exporter": "python",
   "pygments_lexer": "ipython3",
   "version": "3.11.9"
  },
  "orig_nbformat": 4,
  "vscode": {
   "interpreter": {
    "hash": "52caa772d1907c6f66105c57d03a5631a3cff2a2f9012e8a64bd950da839ac83"
   }
  }
 },
 "nbformat": 4,
 "nbformat_minor": 2
}
